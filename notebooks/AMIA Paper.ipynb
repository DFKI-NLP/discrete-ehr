{
 "cells": [
  {
   "cell_type": "code",
   "execution_count": 1,
   "metadata": {},
   "outputs": [],
   "source": [
    "import numpy as np"
   ]
  },
  {
   "cell_type": "markdown",
   "metadata": {},
   "source": [
    "3 random init and training set sample. Test set is fixed"
   ]
  },
  {
   "cell_type": "code",
   "execution_count": 13,
   "metadata": {},
   "outputs": [
    {
     "name": "stdout",
     "output_type": "stream",
     "text": [
      "decompensation ap\n"
     ]
    },
    {
     "data": {
      "text/plain": [
       "(0.044918988808248544, 0.6359666666666666)"
      ]
     },
     "execution_count": 13,
     "metadata": {},
     "output_type": "execute_result"
    }
   ],
   "source": [
    "scores = np.array([0.6843, 0.6475, 0.5761])\n",
    "print(\"decompensation ap\")\n",
    "scores.std(), scores.mean()"
   ]
  },
  {
   "cell_type": "code",
   "execution_count": 12,
   "metadata": {},
   "outputs": [
    {
     "name": "stdout",
     "output_type": "stream",
     "text": [
      "phenotyping ap-macro\n"
     ]
    },
    {
     "data": {
      "text/plain": [
       "(0.015611107156978521, 0.5082)"
      ]
     },
     "execution_count": 12,
     "metadata": {},
     "output_type": "execute_result"
    }
   ],
   "source": [
    "scores = np.array([0.4868, 0.5236, 0.5142])\n",
    "print(\"phenotyping ap-macro\")\n",
    "scores.std(), scores.mean()"
   ]
  },
  {
   "cell_type": "code",
   "execution_count": 8,
   "metadata": {},
   "outputs": [
    {
     "name": "stdout",
     "output_type": "stream",
     "text": [
      "in-hospital-mortality\n"
     ]
    },
    {
     "data": {
      "text/plain": [
       "(0.008023853327561678, 0.6707333333333333)"
      ]
     },
     "execution_count": 8,
     "metadata": {},
     "output_type": "execute_result"
    }
   ],
   "source": [
    "scores = np.array([0.6596, 0.6782, 0.6744])\n",
    "print(\"in-hospital-mortality ap\")\n",
    "scores.std(), scores.mean()"
   ]
  },
  {
   "cell_type": "code",
   "execution_count": 9,
   "metadata": {},
   "outputs": [
    {
     "name": "stdout",
     "output_type": "stream",
     "text": [
      "los regression\n"
     ]
    },
    {
     "data": {
      "text/plain": [
       "(0.7899396601428911, 53.181000000000004)"
      ]
     },
     "execution_count": 9,
     "metadata": {},
     "output_type": "execute_result"
    }
   ],
   "source": [
    "scores = np.array([53.755, 52.064, 53.724])\n",
    "print(\"los regression\")\n",
    "scores.std(), scores.mean()"
   ]
  },
  {
   "cell_type": "code",
   "execution_count": 11,
   "metadata": {},
   "outputs": [
    {
     "name": "stdout",
     "output_type": "stream",
     "text": [
      "los classification\n"
     ]
    },
    {
     "data": {
      "text/plain": [
       "(0.014795494809794864, 0.7553)"
      ]
     },
     "execution_count": 11,
     "metadata": {},
     "output_type": "execute_result"
    }
   ],
   "source": [
    "scores = np.array([0.7729, 0.7563, 0.7367])\n",
    "print(\"los classification\")\n",
    "scores.std(), scores.mean()"
   ]
  },
  {
   "cell_type": "code",
   "execution_count": null,
   "metadata": {},
   "outputs": [],
   "source": []
  }
 ],
 "metadata": {
  "kernelspec": {
   "display_name": "icu",
   "language": "python",
   "name": "icu"
  },
  "language_info": {
   "codemirror_mode": {
    "name": "ipython",
    "version": 3
   },
   "file_extension": ".py",
   "mimetype": "text/x-python",
   "name": "python",
   "nbconvert_exporter": "python",
   "pygments_lexer": "ipython3",
   "version": "3.7.7"
  }
 },
 "nbformat": 4,
 "nbformat_minor": 4
}
