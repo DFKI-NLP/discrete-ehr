{
 "cells": [
  {
   "cell_type": "code",
   "execution_count": null,
   "metadata": {},
   "outputs": [],
   "source": [
    "import os\n",
    "os.chdir('..')"
   ]
  },
  {
   "cell_type": "code",
   "execution_count": null,
   "metadata": {},
   "outputs": [],
   "source": [
    "import re\n",
    "import torch\n",
    "import utils\n",
    "import yaml\n",
    "from glob import glob\n",
    "\n",
    "import seaborn as sns\n",
    "import matplotlib.pyplot as plt\n",
    "import numpy as np\n",
    "\n",
    "from dataloader.data import TabularFeature, MIMICDataset, Normalizer\n",
    "from dataloader.extractors import get_vocab\n",
    "from dataloader.labels import get_labels\n",
    "from dataloader.utils import BinnedEvent\n",
    "from utils import prepare_batch, load_class, load_model, load_config"
   ]
  },
  {
   "cell_type": "code",
   "execution_count": null,
   "metadata": {},
   "outputs": [],
   "source": [
    "DEVICE = 'cpu'\n",
    "data_path = 'data/multitask'"
   ]
  },
  {
   "cell_type": "code",
   "execution_count": null,
   "metadata": {},
   "outputs": [],
   "source": [
    "params = load_config('3aawlg9e')\n",
    "params['patient_modelcls'], params['modelcls']"
   ]
  },
  {
   "cell_type": "code",
   "execution_count": null,
   "metadata": {},
   "outputs": [],
   "source": [
    "params\n",
    "params['min_word_count'] = 100000\n",
    "params['batch_size'] = 4"
   ]
  },
  {
   "cell_type": "code",
   "execution_count": null,
   "metadata": {},
   "outputs": [],
   "source": [
    "chart = TabularFeature('CHARTEVENTS', 'LABEL', 'VALUE', event_class=BinnedEvent, special_tok='🅒🅔', **params)\n",
    "lab = TabularFeature('LABEVENTS', 'LABEL', 'VALUE', event_class=BinnedEvent, special_tok='🅛🅔', **params)\n",
    "output = TabularFeature('OUTPUTEVENTS', 'LABEL', 'VALUE', event_class=BinnedEvent, special_tok='🅞🅔', **params)\n",
    "dem = DemographicsFeature('dem', normalized_indices=[0, 1, 2])\n",
    "\n",
    "tables = [chart, lab, output, dem]\n",
    "\n",
    "labels = get_labels(DEVICE)\n",
    "\n",
    "train_set = MIMICDataset(data_path, 'train', datalist_file='train_listfile.csv', mode='TRAIN',\n",
    "                         tables=tables, labels=labels,\n",
    "                         limit=None,\n",
    "                         numericalize=False,\n",
    "                         )\n",
    "\n",
    "labels = get_labels(DEVICE, **params)\n",
    "joint_vocab = get_vocab(**params)\n",
    "tables = get_tables(vocab=joint_vocab,\n",
    "                    load=True,\n",
    "                    event_class=BinnedEvent,\n",
    "                    **params)"
   ]
  },
  {
   "cell_type": "code",
   "execution_count": null,
   "metadata": {},
   "outputs": [],
   "source": [
    "labels['phenotyping'].classes"
   ]
  },
  {
   "cell_type": "code",
   "execution_count": null,
   "metadata": {},
   "outputs": [],
   "source": [
    "model = load_model(params, joint_vocab, tables, DEVICE)"
   ]
  },
  {
   "cell_type": "code",
   "execution_count": null,
   "metadata": {},
   "outputs": [],
   "source": [
    "from functools import partial\n",
    "from samplers import AgeSubjectRandomSampler\n",
    "sampler = AgeSubjectRandomSampler(train_set)\n",
    "train_loader = torch.utils.data.DataLoader(train_set, batch_size=3,\n",
    "                                           collate_fn=list,\n",
    "                                           sampler=sampler,\n",
    "                                           num_workers=0, pin_memory=True, drop_last=True)"
   ]
  },
  {
   "cell_type": "code",
   "execution_count": null,
   "metadata": {},
   "outputs": [],
   "source": [
    "for sample in train_loader:\n",
    "    break"
   ]
  },
  {
   "cell_type": "markdown",
   "metadata": {},
   "source": [
    "# Positive Sample"
   ]
  },
  {
   "cell_type": "code",
   "execution_count": null,
   "metadata": {},
   "outputs": [],
   "source": [
    "t = 0"
   ]
  },
  {
   "cell_type": "code",
   "execution_count": null,
   "metadata": {},
   "outputs": [],
   "source": [
    "sorted(sample[0]['CHARTEVENTS'][t][1], key=lambda x: x[0])"
   ]
  },
  {
   "cell_type": "markdown",
   "metadata": {},
   "source": [
    "# Next step"
   ]
  },
  {
   "cell_type": "code",
   "execution_count": null,
   "metadata": {},
   "outputs": [],
   "source": [
    "sorted(sample[0]['CHARTEVENTS'][t+1][1], key=lambda x: x[0])"
   ]
  },
  {
   "cell_type": "code",
   "execution_count": null,
   "metadata": {},
   "outputs": [],
   "source": [
    "sorted(sample[1]['CHARTEVENTS'][t+1][1], key=lambda x: x[0])"
   ]
  },
  {
   "cell_type": "code",
   "execution_count": null,
   "metadata": {},
   "outputs": [],
   "source": [
    "sorted(sample[2]['CHARTEVENTS'][t+1][1], key=lambda x: x[0])"
   ]
  }
 ],
 "metadata": {
  "kernelspec": {
   "display_name": "icu",
   "language": "python",
   "name": "icu"
  },
  "language_info": {
   "codemirror_mode": {
    "name": "ipython",
    "version": 3
   },
   "file_extension": ".py",
   "mimetype": "text/x-python",
   "name": "python",
   "nbconvert_exporter": "python",
   "pygments_lexer": "ipython3",
   "version": "3.7.7"
  }
 },
 "nbformat": 4,
 "nbformat_minor": 4
}
