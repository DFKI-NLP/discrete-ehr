{
 "cells": [
  {
   "cell_type": "code",
   "execution_count": null,
   "metadata": {},
   "outputs": [],
   "source": [
    "import os\n",
    "os.chdir('..')"
   ]
  },
  {
   "cell_type": "code",
   "execution_count": null,
   "metadata": {},
   "outputs": [],
   "source": [
    "import re\n",
    "import torch\n",
    "import utils\n",
    "import yaml\n",
    "from glob import glob\n",
    "\n",
    "import seaborn as sns\n",
    "import matplotlib.pyplot as plt\n",
    "import numpy as np\n",
    "\n",
    "from dataloader.data import MIMICDataset, get_tables\n",
    "from dataloader.labels import get_labels\n",
    "from dataloader.utils import BinnedEvent, get_vocab\n",
    "from utils import prepare_batch, load_class, load_model, load_params"
   ]
  },
  {
   "cell_type": "code",
   "execution_count": null,
   "metadata": {},
   "outputs": [],
   "source": [
    "DEVICE = 'cpu'\n",
    "data_path = 'data/multitask'"
   ]
  },
  {
   "cell_type": "code",
   "execution_count": null,
   "metadata": {},
   "outputs": [],
   "source": [
    "params = load_params('26yyp9cl')\n",
    "params['patient_modelcls'], params['modelcls']"
   ]
  },
  {
   "cell_type": "code",
   "execution_count": null,
   "metadata": {},
   "outputs": [],
   "source": [
    "params\n",
    "params['batch_size'] = 2\n",
    "params['vocab_file'] = 'embeddings/sentences.mimic3.hourly.random.binned.train.counts'\n",
    "# \n",
    "# params['normalize'] = False"
   ]
  },
  {
   "cell_type": "code",
   "execution_count": null,
   "metadata": {},
   "outputs": [],
   "source": [
    "joint_vocab = get_vocab(**params)\n",
    "tables = get_tables(['CHARTEVENTS', 'LABEVENTS', 'OUTPUTEVENTS', 'dem'],\n",
    "                    load=True,\n",
    "                    event_class=BinnedEvent,\n",
    "                    vocab=joint_vocab)\n",
    "\n",
    "labels = get_labels(DEVICE)\n",
    "\n",
    "train_set = MIMICDataset(data_path, 'train', datalist_file='train_listfile.csv', mode='TRAIN',\n",
    "                         tables=tables, labels=labels,\n",
    "                         limit=None,\n",
    "                         use_cache=False,\n",
    "                         numericalize=True,\n",
    "                         )"
   ]
  },
  {
   "cell_type": "code",
   "execution_count": null,
   "metadata": {},
   "outputs": [],
   "source": [
    "model = load_model(params, joint_vocab, tables, DEVICE)"
   ]
  },
  {
   "cell_type": "code",
   "execution_count": null,
   "metadata": {},
   "outputs": [],
   "source": [
    "from functools import partial\n",
    "from samplers import AgeSubjectRandomSampler\n",
    "sampler = AgeSubjectRandomSampler(train_set)\n",
    "train_loader = torch.utils.data.DataLoader(train_set, batch_size=2,\n",
    "                                           collate_fn=partial(utils.min_batch,\n",
    "                                                                  tables=tables,\n",
    "                                                                  labels=labels,\n",
    "                                                                  limit=720),\n",
    "                                           sampler=sampler,\n",
    "                                           num_workers=0, pin_memory=True, drop_last=True)"
   ]
  },
  {
   "cell_type": "code",
   "execution_count": null,
   "metadata": {},
   "outputs": [],
   "source": [
    "for sample in train_loader:\n",
    "    break"
   ]
  },
  {
   "cell_type": "code",
   "execution_count": null,
   "metadata": {},
   "outputs": [],
   "source": [
    "x, y, extra = prepare_batch(sample, DEVICE)\n",
    "predictions, outputs = model(*x)\n",
    "patient, timesteps = outputs['patient'], outputs['timesteps']\n",
    "\n",
    "patient_timesteps = patient  # N, L, C\n",
    "\n",
    "prediction_step = 1"
   ]
  },
  {
   "cell_type": "code",
   "execution_count": null,
   "metadata": {},
   "outputs": [],
   "source": [
    "_patient_timesteps = patient_timesteps[:, :-prediction_step]\n",
    "_timesteps = timesteps[:, prediction_step:]\n",
    "\n",
    "pat_prediction = model.step_predictors_pat[prediction_step-1](_patient_timesteps).detach()\n",
    "\n",
    "ts_prediction = model.step_predictors_ts[prediction_step-1](_timesteps).detach()"
   ]
  },
  {
   "cell_type": "code",
   "execution_count": null,
   "metadata": {},
   "outputs": [],
   "source": [
    "pat_prediction.shape, ts_prediction.shape"
   ]
  },
  {
   "cell_type": "code",
   "execution_count": null,
   "metadata": {},
   "outputs": [],
   "source": [
    "for t in _timesteps:\n",
    "    plt.figure(figsize=(10,5), dpi=150)\n",
    "    sns.heatmap(t.detach().T, cmap='Greys')\n",
    "    plt.show()"
   ]
  },
  {
   "cell_type": "code",
   "execution_count": null,
   "metadata": {},
   "outputs": [],
   "source": [
    "step = -1\n",
    "plt.figure(figsize=(15, 1))\n",
    "_prediction = pat_prediction[0,[step]]\n",
    "sns.heatmap(_prediction, cmap='Greys')"
   ]
  },
  {
   "cell_type": "code",
   "execution_count": null,
   "metadata": {},
   "outputs": [],
   "source": [
    "predictions['contrastive'].shape#[:, step, prediction_step]"
   ]
  },
  {
   "cell_type": "code",
   "execution_count": null,
   "metadata": {},
   "outputs": [],
   "source": [
    "# for timestep in ts_prediction[:,[step]].detach():\n",
    "plt.figure(figsize=(5, 3), dpi=150)\n",
    "pos_ts = ts_prediction[0, [step]]\n",
    "neg_ts = ts_prediction[np.random.randint(1,ts_prediction.size(0)), [step]]\n",
    "\n",
    "timestep_match = np.concatenate([pos_ts*_prediction, pos_ts, _prediction, neg_ts, neg_ts*_prediction], 0)\n",
    "sns.heatmap(timestep_match, cmap='Greys')\n",
    "timestep_match = (pos_ts @ _prediction.T).item()\n",
    "\n",
    "plt.annotate(f\"pos sim={timestep_match:.4f}\", xy=(pos_ts.size(1) * .5, .5), # (1,0.5) of the an1's bbox\n",
    "              xytext=(30,0), textcoords=\"offset points\",\n",
    "              va=\"center\", ha=\"left\",\n",
    "              bbox=dict(boxstyle=\"round4\", fc=\"w\"))\n",
    "\n",
    "timestep_match = (neg_ts @ _prediction.T).item()\n",
    "plt.annotate(f\"neg sim={timestep_match:.4f}\", xy=(pos_ts.size(1) * .5, 4.5), # (1,0.5) of the an1's bbox\n",
    "              xytext=(30,0), textcoords=\"offset points\",\n",
    "              va=\"center\", ha=\"left\",\n",
    "              bbox=dict(boxstyle=\"round4\", fc=\"w\"))\n",
    "\n",
    "plt.show()"
   ]
  },
  {
   "cell_type": "code",
   "execution_count": null,
   "metadata": {},
   "outputs": [],
   "source": [
    "pos_ts @ neg_ts.T"
   ]
  },
  {
   "cell_type": "code",
   "execution_count": null,
   "metadata": {},
   "outputs": [],
   "source": [
    "torch.nn.functional.cosine_similarity(pos_ts, _prediction)"
   ]
  },
  {
   "cell_type": "code",
   "execution_count": null,
   "metadata": {},
   "outputs": [],
   "source": [
    "torch.nn.functional.cosine_similarity(neg_ts, _prediction)"
   ]
  },
  {
   "cell_type": "code",
   "execution_count": null,
   "metadata": {},
   "outputs": [],
   "source": [
    "(pos_ts @ _prediction.T).item(), (neg_ts @ _prediction.T).item()"
   ]
  },
  {
   "cell_type": "code",
   "execution_count": null,
   "metadata": {},
   "outputs": [],
   "source": []
  }
 ],
 "metadata": {
  "kernelspec": {
   "display_name": "icu",
   "language": "python",
   "name": "icu"
  },
  "language_info": {
   "codemirror_mode": {
    "name": "ipython",
    "version": 3
   },
   "file_extension": ".py",
   "mimetype": "text/x-python",
   "name": "python",
   "nbconvert_exporter": "python",
   "pygments_lexer": "ipython3",
   "version": "3.7.7"
  }
 },
 "nbformat": 4,
 "nbformat_minor": 4
}
