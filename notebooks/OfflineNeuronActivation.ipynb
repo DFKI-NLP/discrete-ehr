{
 "cells": [
  {
   "cell_type": "code",
   "execution_count": null,
   "metadata": {},
   "outputs": [],
   "source": [
    "import os\n",
    "os.chdir('..')"
   ]
  },
  {
   "cell_type": "code",
   "execution_count": null,
   "metadata": {},
   "outputs": [],
   "source": [
    "import torch"
   ]
  },
  {
   "cell_type": "code",
   "execution_count": null,
   "metadata": {},
   "outputs": [],
   "source": [
    "import utils\n",
    "from dataloader.data import Feature, MIMICDataset, Normalizer\n",
    "from dataloader.extractors import get_vocab\n",
    "from dataloader.utils import BinnedEvent"
   ]
  },
  {
   "cell_type": "code",
   "execution_count": null,
   "metadata": {},
   "outputs": [],
   "source": [
    "DEVICE = 'cuda'"
   ]
  },
  {
   "cell_type": "code",
   "execution_count": null,
   "metadata": {},
   "outputs": [],
   "source": [
    "chart = Feature('CHARTEVENTS', 'LABEL', 'VALUE', event_class=BinnedEvent, special_tok='🅒🅔', **params)\n",
    "lab = Feature('LABEVENTS', 'LABEL', 'VALUE', event_class=BinnedEvent, special_tok='🅛🅔', **params)\n",
    "output = Feature('OUTPUTEVENTS', 'LABEL', 'VALUE', event_class=BinnedEvent, special_tok='🅞🅔', **params)\n",
    "dem = Normalizer('dem', normalized_indices=[0, 1, 2])\n",
    "\n",
    "tables = [chart, lab, output, dem]\n",
    "\n",
    "train_set = MIMICDataset(datalist_file='train_listfile.csv', mode='TRAIN',\n",
    "                         tables=tables,\n",
    "                         limit=None,\n",
    "                         numericalize=False,\n",
    "                         )\n",
    "\n",
    "train_set.numericalize = True\n",
    "\n",
    "joint_vocab = get_vocab(**params)\n",
    "\n",
    "chart.load_params(**params)\n",
    "chart.vocab = joint_vocab\n",
    "lab.load_params(**params)\n",
    "lab.vocab = joint_vocab\n",
    "output.load_params(**params)\n",
    "output.vocab = joint_vocab\n",
    "dem.load_params(**params)"
   ]
  },
  {
   "cell_type": "code",
   "execution_count": null,
   "metadata": {},
   "outputs": [],
   "source": [
    "params"
   ]
  },
  {
   "cell_type": "code",
   "execution_count": null,
   "metadata": {},
   "outputs": [],
   "source": [
    "params = utils.load_params('pbwo3owi')\n",
    "model = utils.load_model(params, joint_vocab, tables, DEVICE)"
   ]
  },
  {
   "cell_type": "code",
   "execution_count": null,
   "metadata": {},
   "outputs": [],
   "source": [
    "with torch.no_grad():\n",
    "    embeddings = model.timestep_encoder.event_encoder.encoder.weight\n",
    "    embeddings = torch.cat([embeddings, torch.zeros(embeddings.shape[0], 2)], 1)\n",
    "    embeddings = model.timestep_encoder.model.linear(embeddings)"
   ]
  },
  {
   "cell_type": "code",
   "execution_count": null,
   "metadata": {},
   "outputs": [],
   "source": [
    "sorted_emb, sorted_emb_ind = embeddings.sort(0, descending=True)"
   ]
  },
  {
   "cell_type": "code",
   "execution_count": null,
   "metadata": {},
   "outputs": [],
   "source": [
    "top_k = 10\n",
    "\n",
    "for i in range(sorted_emb.shape[1]):\n",
    "    print(f\"### DIMENSION {i} ###\")\n",
    "    indices = sorted_emb_ind[:top_k,i].int().numpy()\n",
    "    for ind in indices:\n",
    "        print(joint_vocab.itos[ind], sorted_emb[ind, i].item())"
   ]
  }
 ],
 "metadata": {
  "kernelspec": {
   "display_name": "icu",
   "language": "python",
   "name": "icu"
  },
  "language_info": {
   "codemirror_mode": {
    "name": "ipython",
    "version": 3
   },
   "file_extension": ".py",
   "mimetype": "text/x-python",
   "name": "python",
   "nbconvert_exporter": "python",
   "pygments_lexer": "ipython3",
   "version": "3.7.7"
  }
 },
 "nbformat": 4,
 "nbformat_minor": 4
}
