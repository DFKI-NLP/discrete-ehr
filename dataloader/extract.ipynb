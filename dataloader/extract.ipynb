{
 "cells": [
  {
   "cell_type": "code",
   "execution_count": 1,
   "metadata": {},
   "outputs": [],
   "source": [
    "import os; os.chdir('..')"
   ]
  },
  {
   "cell_type": "code",
   "execution_count": 2,
   "metadata": {},
   "outputs": [
    {
     "name": "stderr",
     "output_type": "stream",
     "text": [
      "/home/oserbetci/miniconda/envs/icu/lib/python3.7/site-packages/ipykernel_launcher.py:1: TqdmExperimentalWarning: Using `tqdm.autonotebook.tqdm` in notebook mode. Use `tqdm.tqdm` instead to force console mode (e.g. in jupyter console)\n",
      "  \"\"\"Entry point for launching an IPython kernel.\n"
     ]
    }
   ],
   "source": [
    "from tqdm.autonotebook import tqdm"
   ]
  },
  {
   "cell_type": "code",
   "execution_count": 3,
   "metadata": {},
   "outputs": [],
   "source": [
    "from dataloader import data\n",
    "from dataloader.data import get_tables, MIMICDataset, BinnedTabularFeature, TabularFeature\n",
    "from dataloader.labels import get_labels\n",
    "from dataloader.extractors import extract_merged_sentences, extract_sentences, extract_patient_sentences\n",
    "from dataloader.utils import BinnedEvent, LabelEvent"
   ]
  },
  {
   "cell_type": "code",
   "execution_count": 5,
   "metadata": {},
   "outputs": [],
   "source": [
    "DEVICE = 'cpu'\n",
    "\n",
    "dem, chart, lab, output, prescr, inpute = get_tables(['dem',\n",
    "                                                      'CHARTEVENTS',\n",
    "                                                      'LABEVENTS', \n",
    "                                                      'OUTPUTEVENTS', \n",
    "                                                      'PRESCRIPTIONS', \n",
    "                                                      'INPUTEVENTS_*'])\n",
    "\n",
    "labels = get_labels(DEVICE)\n",
    "tables = [chart, lab, output, prescr, inpute, dem]\n",
    "train_set = MIMICDataset(datalist_file='train/listfile.csv', datasplit='train', mode='EVAL',\n",
    "                         tables=tables, labels=labels, use_cache=False)\n",
    "test_set = MIMICDataset(datalist_file='test/listfile.csv', datasplit='test', mode='EVAL',\n",
    "                        tables=tables, labels=labels, use_cache=False)"
   ]
  },
  {
   "cell_type": "markdown",
   "metadata": {},
   "source": [
    "#### generate PATIENT SENTENCES"
   ]
  },
  {
   "cell_type": "code",
   "execution_count": null,
   "metadata": {},
   "outputs": [],
   "source": [
    "def _timestep_transform(self, df, *args, **kwargs):\n",
    "    breakpoint()\n",
    "    df['timestep'] = df['Hours']\n",
    "    return df\n",
    "\n",
    "# Monkey patch\n",
    "BinnedTabularFeature._timestep_transform = _timestep_transform"
   ]
  },
  {
   "cell_type": "code",
   "execution_count": null,
   "metadata": {},
   "outputs": [],
   "source": [
    "BIN_STRATEGY = 'kmeans'\n",
    "DATA_SUFFIX = '.mimic3.train'\n",
    "N_BINS = 10\n",
    "\n",
    "_, chart, lab, output, prescr, inpute = get_tables(['CHARTEVENTS', 'LABEVENTS', 'OUTPUTEVENTS', 'PRESCRIPTIONS', 'INPUTEVENTS_*', 'dem'],\n",
    "                                                   load=True,\n",
    "                                                   include_source=False,\n",
    "                                                   n_bins=N_BINS,\n",
    "                                                   suffix=DATA_SUFFIX,\n",
    "                                                   strategy=BIN_STRATEGY)\n",
    "\n",
    "train_set.use_cache = False\n",
    "\n",
    "tables = [chart, lab, output, prescr, inpute]\n",
    "extract_patient_sentences(train_set, tables, randomize=False, suffix=f'{DATA_SUFFIX}.{BIN_STRATEGY}.{N_BINS}bins.cloip.patient.label',\n",
    "                          include_source=False, event_class=BinnedEvent, sep_bin=False)\n"
   ]
  },
  {
   "cell_type": "code",
   "execution_count": null,
   "metadata": {},
   "outputs": [],
   "source": [
    "BIN_STRATEGY = 'uniform'\n",
    "DATA_SUFFIX = '.mimic3.train'\n",
    "N_BINS = 10\n",
    "\n",
    "_, chart, lab, output, prescr, inpute = get_tables(['CHARTEVENTS', 'LABEVENTS', 'OUTPUTEVENTS', 'PRESCRIPTIONS', 'INPUTEVENTS_*', 'dem'],\n",
    "                                                   load=True,\n",
    "                                                   include_source=False,\n",
    "                                                   n_bins=N_BINS,\n",
    "                                                   suffix=DATA_SUFFIX,\n",
    "                                                   strategy=BIN_STRATEGY)\n",
    "\n",
    "train_set.use_cache = False\n",
    "\n",
    "tables = [chart, lab, output, prescr, inpute]\n",
    "extract_patient_sentences(train_set, tables, randomize=False, suffix=f'{DATA_SUFFIX}.{BIN_STRATEGY}.{N_BINS}bins.cloip.patient',\n",
    "                          include_source=False, event_class=BinnedEvent, sep_bin=False)"
   ]
  },
  {
   "cell_type": "code",
   "execution_count": null,
   "metadata": {},
   "outputs": [],
   "source": [
    "!less ../data/sentences.mimic3.train.uniform.10bins.cloip.patient.train.txt\n"
   ]
  },
  {
   "cell_type": "markdown",
   "metadata": {},
   "source": [
    "#### generate concatenated hourly sentences"
   ]
  },
  {
   "cell_type": "code",
   "execution_count": null,
   "metadata": {},
   "outputs": [],
   "source": [
    "# Undo monkey patch\n",
    "import importlib\n",
    "importlib.reload(data)\n",
    "BinnedTabularFeature._timestep_transform = data.BinnedTabularFeature._timestep_transform"
   ]
  },
  {
   "cell_type": "code",
   "execution_count": null,
   "metadata": {},
   "outputs": [],
   "source": [
    "BIN_STRATEGY = 'uniform'\n",
    "DATA_SUFFIX = '.mimic3.train'\n",
    "N_BINS = 10\n",
    "\n",
    "dem, chart, lab, output, prescr, inpute = get_tables(['CHARTEVENTS', 'LABEVENTS', 'OUTPUTEVENTS', 'PRESCRIPTIONS', 'INPUTEVENTS_*', 'dem'],\n",
    "                                                     include_source=False,\n",
    "                                                     n_bins=N_BINS,\n",
    "                                                     suffix=DATA_SUFFIX,\n",
    "                                                     strategy=BIN_STRATEGY,\n",
    "                                                     load=True)\n",
    "\n",
    "train_set.use_cache = True\n",
    "\n",
    "tables = [dem, chart, lab, output, prescr, inpute]\n",
    "for table in tables:\n",
    "    table.fit(train_set)\n",
    "    table.save()\n",
    "    \n",
    "tables = [chart, lab, output, prescr, inpute]\n",
    "extract_merged_sentences(train_set, tables, randomize=False, suffix=f'{DATA_SUFFIX}.{BIN_STRATEGY}.{N_BINS}bins.cloip.merged',\n",
    "                         include_source=False, event_class=BinnedEvent, sep_bin=False)\n",
    "extract_merged_sentences(train_set, tables, randomize=False, suffix=f'{DATA_SUFFIX}.clo.merged',\n",
    "                         include_source=False, event_class=BinnedEvent, sep_bin=True)"
   ]
  },
  {
   "cell_type": "code",
   "execution_count": null,
   "metadata": {},
   "outputs": [],
   "source": [
    "BIN_STRATEGY = 'kmeans'\n",
    "DATA_SUFFIX = '.mimic3.train'\n",
    "N_BINS = 10\n",
    "\n",
    "chart, lab, output, prescr, inpute = get_tables(['CHARTEVENTS', 'LABEVENTS', 'OUTPUTEVENTS', 'PRESCRIPTIONS', 'INPUTEVENTS_*'],\n",
    "                                                include_source=False,\n",
    "                                                n_bins=N_BINS,\n",
    "                                                suffix=DATA_SUFFIX,\n",
    "                                                strategy=BIN_STRATEGY,\n",
    "                                                load=True)\n",
    "\n",
    "train_set.use_cache = True\n",
    "\n",
    "# generate cache\n",
    "tables = [chart, lab, output, prescr, inpute]\n",
    "for table in tables:\n",
    "    table.fit(train_set)\n",
    "    table.save()\n",
    "    \n",
    "tables = [chart, lab, output]\n",
    "extract_merged_sentences(train_set, tables, randomize=False, suffix=f'{DATA_SUFFIX}.{BIN_STRATEGY}.{N_BINS}bins.clo.merged',\n",
    "                         include_source=False, event_class=BinnedEvent, sep_bin=False)\n",
    "extract_merged_sentences(train_set, tables, randomize=True, suffix=f'{DATA_SUFFIX}.{BIN_STRATEGY}.{N_BINS}bins.cloip.random_merged',\n",
    "                         include_source=False, event_class=BinnedEvent, sep_bin=False)"
   ]
  },
  {
   "cell_type": "code",
   "execution_count": null,
   "metadata": {},
   "outputs": [],
   "source": [
    "print('DONE')"
   ]
  },
  {
   "cell_type": "markdown",
   "metadata": {},
   "source": [
    "# Create Test Vocab"
   ]
  },
  {
   "cell_type": "code",
   "execution_count": null,
   "metadata": {},
   "outputs": [
    {
     "name": "stdout",
     "output_type": "stream",
     "text": [
      "Automatic pdb calling has been turned ON\n"
     ]
    },
    {
     "data": {
      "application/vnd.jupyter.widget-view+json": {
       "model_id": "005be91f1cbe409ea59c23f6ce663816",
       "version_major": 2,
       "version_minor": 0
      },
      "text/plain": [
       "HBox(children=(FloatProgress(value=0.0, description='extract sentences', max=35621.0, style=ProgressStyle(desc…"
      ]
     },
     "metadata": {},
     "output_type": "display_data"
    }
   ],
   "source": [
    "DATA_SUFFIX = '.mimic3.test'\n",
    "BIN_STRATEGY = 'kmeans'\n",
    "N_BINS = 10\n",
    "\n",
    "def _timestep_transform(self, df, *args, **kwargs):\n",
    "    df['timestep'] = df['Hours']\n",
    "    return df\n",
    "\n",
    "# Monkey patch\n",
    "BinnedTabularFeature._timestep_transform = _timestep_transform\n",
    "\n",
    "_, chart, lab, output, prescr, inpute = get_tables(['CHARTEVENTS', 'LABEVENTS', 'OUTPUTEVENTS', 'PRESCRIPTIONS', 'INPUTEVENTS_*', 'dem'],\n",
    "                                                   load=True,\n",
    "                                                   include_source=False,\n",
    "                                                   n_bins=N_BINS,\n",
    "                                                   suffix=DATA_SUFFIX,\n",
    "                                                   strategy=BIN_STRATEGY)\n",
    "\n",
    "tables = [chart, lab, output, prescr, inpute]\n",
    "extract_patient_sentences(test_set, tables, randomize=False, suffix=f'{DATA_SUFFIX}.{BIN_STRATEGY}.{N_BINS}.cloip.patient',\n",
    "                          include_source=False, event_class=BinnedEvent, sep_bin=False)\n"
   ]
  }
 ],
 "metadata": {
  "kernelspec": {
   "display_name": "icu",
   "language": "python",
   "name": "icu"
  },
  "language_info": {
   "codemirror_mode": {
    "name": "ipython",
    "version": 3
   },
   "file_extension": ".py",
   "mimetype": "text/x-python",
   "name": "python",
   "nbconvert_exporter": "python",
   "pygments_lexer": "ipython3",
   "version": "3.7.7"
  }
 },
 "nbformat": 4,
 "nbformat_minor": 4
}
