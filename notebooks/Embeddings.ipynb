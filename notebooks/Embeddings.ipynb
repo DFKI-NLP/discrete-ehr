{
 "cells": [
  {
   "cell_type": "code",
   "execution_count": null,
   "metadata": {},
   "outputs": [],
   "source": [
    "import os\n",
    "os.chdir('..')"
   ]
  },
  {
   "cell_type": "code",
   "execution_count": null,
   "metadata": {},
   "outputs": [],
   "source": [
    "import re\n",
    "import torch\n",
    "import utils\n",
    "import yaml\n",
    "from glob import glob\n",
    "\n",
    "import seaborn as sns\n",
    "import plotly.express as px\n",
    "import matplotlib.pyplot as plt\n",
    "%matplotlib inline\n",
    "import numpy as np\n",
    "import pandas as pd\n",
    "\n",
    "from dataloader.data import MIMICDataset, get_tables, JointTabularFeature\n",
    "from dataloader.labels import get_labels\n",
    "from dataloader.utils import BinnedEvent, get_vocab\n",
    "from utils import prepare_batch, load_class, load_model, load_config"
   ]
  },
  {
   "cell_type": "code",
   "execution_count": null,
   "metadata": {},
   "outputs": [],
   "source": [
    "DEVICE = 'cuda:0'"
   ]
  },
  {
   "cell_type": "code",
   "execution_count": null,
   "metadata": {},
   "outputs": [],
   "source": [
    "params = load_config('3hn50mmn')"
   ]
  },
  {
   "cell_type": "code",
   "execution_count": null,
   "metadata": {},
   "outputs": [],
   "source": [
    "params['wandb_id']"
   ]
  },
  {
   "cell_type": "code",
   "execution_count": null,
   "metadata": {},
   "outputs": [],
   "source": [
    "params\n",
    "# params['min_word_count'] = 10000\n",
    "params['batch_size'] = 1\n",
    "# params['vocab_file'] = 'embeddings/sentences.mimic3.hourly.random.binned.train.counts'"
   ]
  },
  {
   "cell_type": "code",
   "execution_count": null,
   "metadata": {},
   "outputs": [],
   "source": [
    "params['joint_tables']"
   ]
  },
  {
   "cell_type": "code",
   "execution_count": null,
   "metadata": {},
   "outputs": [],
   "source": [
    "joint_vocab = get_vocab(**params)\n",
    "\n",
    "tables = get_tables(vocab=joint_vocab,\n",
    "                    load=True,\n",
    "                    event_class=BinnedEvent,\n",
    "                    **params)\n",
    "\n",
    "labels = get_labels(DEVICE)\n",
    "\n",
    "val_set = MIMICDataset(datalist_file='val_listfile.csv', mode='TRAIN',\n",
    "                       tables=tables, labels=labels,\n",
    "                       limit=None,\n",
    "                       numericalize=True,\n",
    "                       )"
   ]
  },
  {
   "cell_type": "code",
   "execution_count": null,
   "metadata": {},
   "outputs": [],
   "source": [
    "model = utils.load_model(params, joint_vocab, tables, DEVICE)\n",
    "loaded_epoch = re.findall(r'checkpoint_(\\d+)_', params['model_path'])"
   ]
  },
  {
   "cell_type": "markdown",
   "metadata": {},
   "source": [
    "# Write vocab to tensorboard"
   ]
  },
  {
   "cell_type": "code",
   "execution_count": null,
   "metadata": {},
   "outputs": [],
   "source": [
    "\n",
    "log_dir=f'runs/{params[\"emb_prefix\"]}{params[\"emb_suffix\"]}/fasttext_events'\n",
    "if not os.path.exists(log_dir):\n",
    "    print(\"writing embedding\")\n",
    "    os.makedirs(log_dir, exist_ok=True)\n",
    "\n",
    "    from torch.utils.tensorboard import SummaryWriter\n",
    "    writer = SummaryWriter(log_dir)\n",
    "    writer.add_embedding(joint_vocab.vectors, metadata=joint_vocab.itos, tag='fasttext_events')\n",
    "    writer.close()"
   ]
  },
  {
   "cell_type": "code",
   "execution_count": null,
   "metadata": {},
   "outputs": [],
   "source": [
    "import numpy as np\n",
    "from sklearn.decomposition import PCA\n",
    "from sklearn.manifold import TSNE\n",
    "ft_pca = PCA(n_components=2)\n",
    "projection = ft_pca.fit_transform(joint_vocab.vectors)\n",
    "\n",
    "print(ft_pca.explained_variance_ratio_)\n",
    "\n",
    "print(ft_pca.singular_values_)"
   ]
  },
  {
   "cell_type": "code",
   "execution_count": null,
   "metadata": {},
   "outputs": [],
   "source": [
    "df = pd.DataFrame(projection, columns=['x', 'y'])\n",
    "df['token'] = joint_vocab.itos\n",
    "df['focus'] = df['token'].str.contains('Creatinine')\n",
    "px.scatter(df, x='x', y='y', color='focus', hover_data=['token'])"
   ]
  },
  {
   "cell_type": "code",
   "execution_count": null,
   "metadata": {},
   "outputs": [],
   "source": [
    "def get_table_vocabs(tables):\n",
    "    vocabs = []\n",
    "    for table in tables:\n",
    "        if table.table == 'dem': continue\n",
    "        if isinstance(table, JointTabularFeature): return get_table_vocabs(table.tables)\n",
    "        for vocab in table.value_counter.keys():\n",
    "            vocabs.append((vocab, table.table))\n",
    "    return vocabs"
   ]
  },
  {
   "cell_type": "code",
   "execution_count": null,
   "metadata": {},
   "outputs": [],
   "source": [
    "table_vocabs = get_table_vocabs(tables)\n",
    "vocab_df = pd.DataFrame(table_vocabs, columns=['label', 'source'])\n",
    "df['label'] = df['token'].str.extract('(.+?)(?:=.*)?$')\n",
    "df = df.merge(pd.DataFrame(vocab_df, columns=['label', 'source']), how='left', on='label')"
   ]
  },
  {
   "cell_type": "code",
   "execution_count": null,
   "metadata": {},
   "outputs": [],
   "source": [
    "# df['focus'] = df['source'] == 'LABEVENTS'\n",
    "df['focus'] = df['label'] == 'Heart-Rhythm'\n",
    "px.scatter(df, x='x', y='y', color='focus', hover_data=['token', 'label', 'source'], opacity=0.5)"
   ]
  },
  {
   "cell_type": "markdown",
   "metadata": {},
   "source": [
    "# Use learned model"
   ]
  },
  {
   "cell_type": "code",
   "execution_count": null,
   "metadata": {},
   "outputs": [],
   "source": [
    "# model.timestep_encoder.model.linear.weight.data = model.timestep_encoder.model.linear.weight[:, :100]"
   ]
  },
  {
   "cell_type": "code",
   "execution_count": null,
   "metadata": {},
   "outputs": [],
   "source": [
    "if model.timestep_encoder.event_encoder.include_time:\n",
    "    input = torch.cat([joint_vocab.vectors, torch.zeros(len(joint_vocab), 2)], 1)\n",
    "else:\n",
    "    input = joint_vocab.vectors"
   ]
  },
  {
   "cell_type": "code",
   "execution_count": null,
   "metadata": {},
   "outputs": [],
   "source": [
    "model.timestep_encoder.model.parameters"
   ]
  },
  {
   "cell_type": "code",
   "execution_count": null,
   "metadata": {},
   "outputs": [],
   "source": [
    "log_dir=f'runs/{params[\"emb_prefix\"]}{params[\"emb_suffix\"]}/{params[\"wandb_id\"]}_e{loaded_epoch}_events'\n",
    "if not os.path.exists(log_dir):\n",
    "    print(\"writing embedding\")\n",
    "    os.makedirs(log_dir, exist_ok=True)\n",
    "\n",
    "    from torch.utils.tensorboard import SummaryWriter\n",
    "    writer = SummaryWriter(log_dir)\n",
    "    \n",
    "    # Transformer\n",
    "    # writer.add_embedding(model.timestep_encoder.model.transformer_encoder(input[None]).detach()[0], metadata=joint_vocab.itos, tag=f'{params[\"wandb_id\"]}_events')\n",
    "    writer.add_embedding(model.timestep_encoder.model.linear(input).detach(), metadata=joint_vocab.itos, tag=f'{params[\"wandb_id\"]}_events')\n",
    "    writer.close()"
   ]
  },
  {
   "cell_type": "code",
   "execution_count": null,
   "metadata": {},
   "outputs": [],
   "source": [
    "momentum_pca = TSNE(n_components=2)\n",
    "projection = momentum_pca.fit_transform(model.timestep_encoder.model.linear(input).detach())\n",
    "\n",
    "print(momentum_pca.explained_variance_ratio_)\n",
    "\n",
    "print(momentum_pca.singular_values_)"
   ]
  },
  {
   "cell_type": "code",
   "execution_count": null,
   "metadata": {},
   "outputs": [],
   "source": [
    "df = pd.DataFrame(projection, columns=['x', 'y'])\n",
    "df['token'] = joint_vocab.itos\n",
    "\n",
    "table_vocabs = get_table_vocabs(tables)\n",
    "vocab_df = pd.DataFrame(table_vocabs, columns=['label', 'source'])\n",
    "df['label'] = df['token'].str.extract('(.+?)(?:=.*)?$')\n",
    "df = df.merge(pd.DataFrame(vocab_df, columns=['label', 'source']), how='left', on='label')\n",
    "\n",
    "# df['focus'] = df['token'].str.contains('Glucose')\n",
    "df['focus'] = df['label'] == 'Heart-Rhythm'\n",
    "px.scatter(df, x='x', y='y', color='focus', hover_data=['token', 'label', 'source'], opacity=0.5)"
   ]
  },
  {
   "cell_type": "code",
   "execution_count": null,
   "metadata": {},
   "outputs": [],
   "source": [
    "df = pd.DataFrame(projection, columns=['x', 'y'])\n",
    "df['token'] = joint_vocab.itos\n",
    "\n",
    "table_vocabs = get_table_vocabs(tables)\n",
    "vocab_df = pd.DataFrame(table_vocabs, columns=['label', 'source'])\n",
    "df['label'] = df['token'].str.extract('(.+?)(?:=.*)?$')\n",
    "df = df.merge(pd.DataFrame(vocab_df, columns=['label', 'source']), how='left', on='label')\n",
    "\n",
    "# df['focus'] = df['token'].str.contains('Glucose')\n",
    "df['focus'] = df['label'] == 'Heart-Rhythm'\n",
    "px.scatter(df, x='x', y='y', color='focus', hover_data=['token', 'label', 'source'], opacity=0.5)"
   ]
  },
  {
   "cell_type": "markdown",
   "metadata": {},
   "source": [
    "# Bins"
   ]
  },
  {
   "cell_type": "code",
   "execution_count": null,
   "metadata": {},
   "outputs": [],
   "source": [
    "joint_vocab.stoi['🅛🅔=Glucose=NEG']\n",
    "tables[2].bins['🅛🅔=Glucose']\n",
    "tables[1].plot_bin('🅒🅔=Respiratory-Rate')"
   ]
  },
  {
   "cell_type": "code",
   "execution_count": null,
   "metadata": {},
   "outputs": [],
   "source": []
  }
 ],
 "metadata": {
  "kernelspec": {
   "display_name": "icu",
   "language": "python",
   "name": "icu"
  },
  "language_info": {
   "codemirror_mode": {
    "name": "ipython",
    "version": 3
   },
   "file_extension": ".py",
   "mimetype": "text/x-python",
   "name": "python",
   "nbconvert_exporter": "python",
   "pygments_lexer": "ipython3",
   "version": "3.7.7"
  }
 },
 "nbformat": 4,
 "nbformat_minor": 4
}
